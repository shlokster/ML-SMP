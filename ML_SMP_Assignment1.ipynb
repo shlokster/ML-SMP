{
  "nbformat": 4,
  "nbformat_minor": 0,
  "metadata": {
    "colab": {
      "name": "ML-SMP_Assignment1.ipynb",
      "provenance": [],
      "collapsed_sections": [],
      "authorship_tag": "ABX9TyPJQsZj6MLlz++xVYm9l77/",
      "include_colab_link": true
    },
    "kernelspec": {
      "name": "python3",
      "display_name": "Python 3"
    },
    "language_info": {
      "name": "python"
    }
  },
  "cells": [
    {
      "cell_type": "markdown",
      "metadata": {
        "id": "view-in-github",
        "colab_type": "text"
      },
      "source": [
        "<a href=\"https://colab.research.google.com/github/shlokster/ML-SMP/blob/main/ML_SMP_Assignment1.ipynb\" target=\"_parent\"><img src=\"https://colab.research.google.com/assets/colab-badge.svg\" alt=\"Open In Colab\"/></a>"
      ]
    },
    {
      "cell_type": "code",
      "metadata": {
        "id": "X-dABRAx04uo"
      },
      "source": [
        "import pandas as pd"
      ],
      "execution_count": null,
      "outputs": []
    },
    {
      "cell_type": "code",
      "metadata": {
        "id": "lOsPDVwh2R8a"
      },
      "source": [
        "df=pd.read_csv(\"/content/Titanic_ISTE.csv\")"
      ],
      "execution_count": null,
      "outputs": []
    },
    {
      "cell_type": "code",
      "metadata": {
        "colab": {
          "base_uri": "https://localhost:8080/",
          "height": 501
        },
        "id": "1RVSzNsh2cqL",
        "outputId": "2b56da9d-91c3-4b63-992c-e6df4899e875"
      },
      "source": [
        "df.head()"
      ],
      "execution_count": null,
      "outputs": [
        {
          "output_type": "execute_result",
          "data": {
            "text/html": [
              "<div>\n",
              "<style scoped>\n",
              "    .dataframe tbody tr th:only-of-type {\n",
              "        vertical-align: middle;\n",
              "    }\n",
              "\n",
              "    .dataframe tbody tr th {\n",
              "        vertical-align: top;\n",
              "    }\n",
              "\n",
              "    .dataframe thead th {\n",
              "        text-align: right;\n",
              "    }\n",
              "</style>\n",
              "<table border=\"1\" class=\"dataframe\">\n",
              "  <thead>\n",
              "    <tr style=\"text-align: right;\">\n",
              "      <th></th>\n",
              "      <th>PassengerId</th>\n",
              "      <th>Survived</th>\n",
              "      <th>Pclass</th>\n",
              "      <th>Name</th>\n",
              "      <th>Sex</th>\n",
              "      <th>Age</th>\n",
              "      <th>SibSp</th>\n",
              "      <th>Parch</th>\n",
              "      <th>Ticket</th>\n",
              "      <th>Fare</th>\n",
              "      <th>Cabin</th>\n",
              "      <th>Embarked</th>\n",
              "      <th>Unnamed: 12</th>\n",
              "      <th>Unnamed: 13</th>\n",
              "      <th>Unnamed: 14</th>\n",
              "      <th>Unnamed: 15</th>\n",
              "      <th>Unnamed: 16</th>\n",
              "      <th>Unnamed: 17</th>\n",
              "    </tr>\n",
              "  </thead>\n",
              "  <tbody>\n",
              "    <tr>\n",
              "      <th>0</th>\n",
              "      <td>1</td>\n",
              "      <td>0.0</td>\n",
              "      <td>3.0</td>\n",
              "      <td>Braund, Mr. Owen Harris</td>\n",
              "      <td>male</td>\n",
              "      <td>22.0</td>\n",
              "      <td>1.0</td>\n",
              "      <td>0.0</td>\n",
              "      <td>A/5 21171</td>\n",
              "      <td>7.2500</td>\n",
              "      <td>NaN</td>\n",
              "      <td>S</td>\n",
              "      <td>NaN</td>\n",
              "      <td>NaN</td>\n",
              "      <td>NaN</td>\n",
              "      <td>NaN</td>\n",
              "      <td>NaN</td>\n",
              "      <td>NaN</td>\n",
              "    </tr>\n",
              "    <tr>\n",
              "      <th>1</th>\n",
              "      <td>2</td>\n",
              "      <td>1.0</td>\n",
              "      <td>1.0</td>\n",
              "      <td>Cumings, Mrs. John Bradley (Florence Briggs Th...</td>\n",
              "      <td>female</td>\n",
              "      <td>38.0</td>\n",
              "      <td>1.0</td>\n",
              "      <td>0.0</td>\n",
              "      <td>PC 17599</td>\n",
              "      <td>71.2833</td>\n",
              "      <td>C85</td>\n",
              "      <td>C</td>\n",
              "      <td>NaN</td>\n",
              "      <td>NaN</td>\n",
              "      <td>NaN</td>\n",
              "      <td>NaN</td>\n",
              "      <td>NaN</td>\n",
              "      <td>NaN</td>\n",
              "    </tr>\n",
              "    <tr>\n",
              "      <th>2</th>\n",
              "      <td>3</td>\n",
              "      <td>1.0</td>\n",
              "      <td>3.0</td>\n",
              "      <td>Heikkinen, Miss. Laina</td>\n",
              "      <td>female</td>\n",
              "      <td>26.0</td>\n",
              "      <td>0.0</td>\n",
              "      <td>0.0</td>\n",
              "      <td>STON/O2. 3101282</td>\n",
              "      <td>7.9250</td>\n",
              "      <td>NaN</td>\n",
              "      <td>S</td>\n",
              "      <td>NaN</td>\n",
              "      <td>NaN</td>\n",
              "      <td>NaN</td>\n",
              "      <td>NaN</td>\n",
              "      <td>NaN</td>\n",
              "      <td>NaN</td>\n",
              "    </tr>\n",
              "    <tr>\n",
              "      <th>3</th>\n",
              "      <td>4</td>\n",
              "      <td>1.0</td>\n",
              "      <td>1.0</td>\n",
              "      <td>Futrelle, Mrs. Jacques Heath (Lily May Peel)</td>\n",
              "      <td>female</td>\n",
              "      <td>35.0</td>\n",
              "      <td>1.0</td>\n",
              "      <td>0.0</td>\n",
              "      <td>113803</td>\n",
              "      <td>53.1000</td>\n",
              "      <td>C123</td>\n",
              "      <td>S</td>\n",
              "      <td>NaN</td>\n",
              "      <td>NaN</td>\n",
              "      <td>NaN</td>\n",
              "      <td>NaN</td>\n",
              "      <td>NaN</td>\n",
              "      <td>NaN</td>\n",
              "    </tr>\n",
              "    <tr>\n",
              "      <th>4</th>\n",
              "      <td>5</td>\n",
              "      <td>0.0</td>\n",
              "      <td>3.0</td>\n",
              "      <td>Allen, Mr. William Henry</td>\n",
              "      <td>male</td>\n",
              "      <td>35.0</td>\n",
              "      <td>0.0</td>\n",
              "      <td>0.0</td>\n",
              "      <td>373450</td>\n",
              "      <td>8.0500</td>\n",
              "      <td>NaN</td>\n",
              "      <td>S</td>\n",
              "      <td>NaN</td>\n",
              "      <td>NaN</td>\n",
              "      <td>NaN</td>\n",
              "      <td>NaN</td>\n",
              "      <td>NaN</td>\n",
              "      <td>NaN</td>\n",
              "    </tr>\n",
              "  </tbody>\n",
              "</table>\n",
              "</div>"
            ],
            "text/plain": [
              "   PassengerId  Survived  Pclass  ... Unnamed: 15 Unnamed: 16  Unnamed: 17\n",
              "0            1       0.0     3.0  ...         NaN         NaN          NaN\n",
              "1            2       1.0     1.0  ...         NaN         NaN          NaN\n",
              "2            3       1.0     3.0  ...         NaN         NaN          NaN\n",
              "3            4       1.0     1.0  ...         NaN         NaN          NaN\n",
              "4            5       0.0     3.0  ...         NaN         NaN          NaN\n",
              "\n",
              "[5 rows x 18 columns]"
            ]
          },
          "metadata": {
            "tags": []
          },
          "execution_count": 3
        }
      ]
    },
    {
      "cell_type": "code",
      "metadata": {
        "colab": {
          "base_uri": "https://localhost:8080/"
        },
        "id": "L3MvJEbk2enA",
        "outputId": "48c1082a-7f11-43a2-98b3-f6246bd0c225"
      },
      "source": [
        "df.info()"
      ],
      "execution_count": null,
      "outputs": [
        {
          "output_type": "stream",
          "text": [
            "<class 'pandas.core.frame.DataFrame'>\n",
            "RangeIndex: 891 entries, 0 to 890\n",
            "Data columns (total 18 columns):\n",
            " #   Column       Non-Null Count  Dtype  \n",
            "---  ------       --------------  -----  \n",
            " 0   PassengerId  891 non-null    int64  \n",
            " 1   Survived     889 non-null    float64\n",
            " 2   Pclass       890 non-null    float64\n",
            " 3   Name         891 non-null    object \n",
            " 4   Sex          881 non-null    object \n",
            " 5   Age          712 non-null    float64\n",
            " 6   SibSp        890 non-null    float64\n",
            " 7   Parch        889 non-null    float64\n",
            " 8   Ticket       891 non-null    object \n",
            " 9   Fare         891 non-null    float64\n",
            " 10  Cabin        204 non-null    object \n",
            " 11  Embarked     889 non-null    object \n",
            " 12  Unnamed: 12  0 non-null      float64\n",
            " 13  Unnamed: 13  0 non-null      float64\n",
            " 14  Unnamed: 14  0 non-null      float64\n",
            " 15  Unnamed: 15  0 non-null      float64\n",
            " 16  Unnamed: 16  0 non-null      float64\n",
            " 17  Unnamed: 17  1 non-null      float64\n",
            "dtypes: float64(12), int64(1), object(5)\n",
            "memory usage: 125.4+ KB\n"
          ],
          "name": "stdout"
        }
      ]
    },
    {
      "cell_type": "markdown",
      "metadata": {
        "id": "C_YMS31P2i5F"
      },
      "source": [
        "QUESTION 1"
      ]
    },
    {
      "cell_type": "code",
      "metadata": {
        "colab": {
          "base_uri": "https://localhost:8080/"
        },
        "id": "WTmEoO5o2guk",
        "outputId": "fdea6840-3715-4e95-c5a9-48125363eeee"
      },
      "source": [
        "\n",
        "CrosstabResult=pd.crosstab(index=df['PassengerId'],columns=df['Survived'])\n",
        "print(CrosstabResult)\n",
        "from scipy.stats import chi2_contingency\n",
        "\n",
        "ChiSqResult = chi2_contingency(CrosstabResult)\n",
        "print(\"\\n\")\n",
        "print('The P-Value of the ChiSq Test is:\\n', ChiSqResult[1])\n",
        "\n",
        "column_1=df[\"PassengerId\"]\n",
        "#choose output as the other column\n",
        "column_2=df[\"Survived\"]\n",
        "correlation = column_2. corr(column_1) #calculate correlation between `column_1` and `column_2`\n",
        "print(\"The P-Value of the Correaltion Test is:\\n\",correlation)"
      ],
      "execution_count": null,
      "outputs": [
        {
          "output_type": "stream",
          "text": [
            "Survived     0.0  1.0\n",
            "PassengerId          \n",
            "1              1    0\n",
            "2              0    1\n",
            "3              0    1\n",
            "4              0    1\n",
            "5              1    0\n",
            "...          ...  ...\n",
            "887            1    0\n",
            "888            0    1\n",
            "889            1    0\n",
            "890            0    1\n",
            "891            1    0\n",
            "\n",
            "[889 rows x 2 columns]\n",
            "\n",
            "\n",
            "The P-Value of the ChiSq Test is:\n",
            " 0.48423044114425606\n",
            "The P-Value of the Correaltion Test is:\n",
            " -0.004786384247142842\n"
          ],
          "name": "stdout"
        }
      ]
    },
    {
      "cell_type": "code",
      "metadata": {
        "colab": {
          "base_uri": "https://localhost:8080/"
        },
        "id": "zBhCT0je2z4W",
        "outputId": "aff33d62-1a25-4071-8df5-b8bab040fcd7"
      },
      "source": [
        "\n",
        "CrosstabResult=pd.crosstab(index=df['Pclass'],columns=df['Survived'])\n",
        "print(CrosstabResult)\n",
        "from scipy.stats import chi2_contingency\n",
        "\n",
        "ChiSqResult = chi2_contingency(CrosstabResult)\n",
        "print(\"\\n\")\n",
        "print('The P-Value of the ChiSq Test is:\\n', ChiSqResult[1])\n",
        "\n",
        "column_1=df[\"Pclass\"]\n",
        "#choose output as the other column\n",
        "column_2=df[\"Survived\"]\n",
        "correlation = column_2. corr(column_1) #calculate correlation between `column_1` and `column_2`\n",
        "print(\"The P-Value of the Correaltion Test is:\\n\",correlation)"
      ],
      "execution_count": null,
      "outputs": [
        {
          "output_type": "stream",
          "text": [
            "Survived  0.0  1.0\n",
            "Pclass            \n",
            "1.0        80  136\n",
            "2.0        97   87\n",
            "3.0       371  117\n",
            "\n",
            "\n",
            "The P-Value of the ChiSq Test is:\n",
            " 2.2842186475599623e-23\n",
            "The P-Value of the Correaltion Test is:\n",
            " -0.3412361199775701\n"
          ],
          "name": "stdout"
        }
      ]
    },
    {
      "cell_type": "code",
      "metadata": {
        "colab": {
          "base_uri": "https://localhost:8080/"
        },
        "id": "cXgYuSdE3Pto",
        "outputId": "77fc37cd-ebf2-474a-86c8-d0afe4ae28c2"
      },
      "source": [
        "\n",
        "CrosstabResult=pd.crosstab(index=df['Name'],columns=df['Survived'])\n",
        "print(CrosstabResult)\n",
        "from scipy.stats import chi2_contingency\n",
        "\n",
        "ChiSqResult = chi2_contingency(CrosstabResult)\n",
        "print(\"\\n\")\n",
        "print('The P-Value of the ChiSq Test is:\\n', ChiSqResult[1])\n"
      ],
      "execution_count": null,
      "outputs": [
        {
          "output_type": "stream",
          "text": [
            "Survived                               0.0  1.0\n",
            "Name                                           \n",
            "Abbing, Mr. Anthony                      1    0\n",
            "Abbott, Mr. Rossmore Edward              1    0\n",
            "Abbott, Mrs. Stanton (Rosa Hunt)         0    1\n",
            "Abelson, Mr. Samuel                      1    0\n",
            "Abelson, Mrs. Samuel (Hannah Wizosky)    0    1\n",
            "...                                    ...  ...\n",
            "de Mulder, Mr. Theodore                  0    1\n",
            "de Pelsmaeker, Mr. Alfons                1    0\n",
            "del Carlo, Mr. Sebastiano                1    0\n",
            "van Billiard, Mr. Austin Blyler          1    0\n",
            "van Melkebeke, Mr. Philemon              1    0\n",
            "\n",
            "[889 rows x 2 columns]\n",
            "\n",
            "\n",
            "The P-Value of the ChiSq Test is:\n",
            " 0.48423044114425606\n"
          ],
          "name": "stdout"
        }
      ]
    },
    {
      "cell_type": "code",
      "metadata": {
        "colab": {
          "base_uri": "https://localhost:8080/"
        },
        "id": "Lbd8bRUe3jXp",
        "outputId": "58c3a711-d0d1-4eae-e9da-a99c10c925c0"
      },
      "source": [
        "\n",
        "CrosstabResult=pd.crosstab(index=df['Sex'],columns=df['Survived'])\n",
        "print(CrosstabResult)\n",
        "from scipy.stats import chi2_contingency\n",
        "\n",
        "ChiSqResult = chi2_contingency(CrosstabResult)\n",
        "\n",
        "print(\"\\n\")\n",
        "print('The P-Value of the ChiSq Test is:\\n', ChiSqResult[1])\n"
      ],
      "execution_count": null,
      "outputs": [
        {
          "output_type": "stream",
          "text": [
            "Survived  0.0  1.0\n",
            "Sex               \n",
            "female     81  230\n",
            "male      460  108\n",
            "\n",
            "\n",
            "The P-Value of the ChiSq Test is:\n",
            " 3.487741570629795e-57\n"
          ],
          "name": "stdout"
        }
      ]
    },
    {
      "cell_type": "code",
      "metadata": {
        "colab": {
          "base_uri": "https://localhost:8080/"
        },
        "id": "MqhdtvsS3n4w",
        "outputId": "0910c8fc-e448-4626-88cc-40a89f7363af"
      },
      "source": [
        "\n",
        "CrosstabResult=pd.crosstab(index=df['Age'],columns=df['Survived'])\n",
        "print(CrosstabResult)\n",
        "from scipy.stats import chi2_contingency\n",
        "\n",
        "ChiSqResult = chi2_contingency(CrosstabResult)\n",
        "print(\"\\n\")\n",
        "print('The P-Value of the ChiSq Test is:\\n', ChiSqResult[1])\n",
        "\n",
        "column_1=df[\"Age\"]\n",
        "#choose output as the other column\n",
        "column_2=df[\"Survived\"]\n",
        "correlation = column_2. corr(column_1) #calculate correlation between `column_1` and `column_2`\n",
        "print(\"The P-Value of the Correaltion Test is:\\n\",correlation)"
      ],
      "execution_count": null,
      "outputs": [
        {
          "output_type": "stream",
          "text": [
            "Survived  0.0  1.0\n",
            "Age               \n",
            "0.42        0    1\n",
            "0.67        0    1\n",
            "0.75        0    2\n",
            "0.83        0    2\n",
            "0.92        0    1\n",
            "...       ...  ...\n",
            "70.00       2    0\n",
            "70.50       1    0\n",
            "71.00       2    0\n",
            "74.00       1    0\n",
            "80.00       0    1\n",
            "\n",
            "[88 rows x 2 columns]\n",
            "\n",
            "\n",
            "The P-Value of the ChiSq Test is:\n",
            " 0.08371525224381583\n",
            "The P-Value of the Correaltion Test is:\n",
            " -0.07885930007180811\n"
          ],
          "name": "stdout"
        }
      ]
    },
    {
      "cell_type": "code",
      "metadata": {
        "colab": {
          "base_uri": "https://localhost:8080/"
        },
        "id": "7F_7sm-Z3pyl",
        "outputId": "20d42f33-32b1-443a-dccb-08a4a3190e7c"
      },
      "source": [
        "\n",
        "CrosstabResult=pd.crosstab(index=df['SibSp'],columns=df['Survived'])\n",
        "print(CrosstabResult)\n",
        "from scipy.stats import chi2_contingency\n",
        "\n",
        "ChiSqResult = chi2_contingency(CrosstabResult)\n",
        "print(\"\\n\")\n",
        "print('The P-Value of the ChiSq Test is:\\n', ChiSqResult[1])\n",
        "\n",
        "column_1=df[\"SibSp\"]\n",
        "#choose output as the other column\n",
        "column_2=df[\"Survived\"]\n",
        "correlation = column_2. corr(column_1) #calculate correlation between `column_1` and `column_2`\n",
        "print(\"The P-Value of the Correaltion Test is:\\n\",correlation)"
      ],
      "execution_count": null,
      "outputs": [
        {
          "output_type": "stream",
          "text": [
            "Survived  0.0  1.0\n",
            "SibSp             \n",
            "0.0       398  209\n",
            "1.0        97  112\n",
            "2.0        15   13\n",
            "3.0        12    3\n",
            "4.0        15    3\n",
            "5.0         4    0\n",
            "8.0         7    0\n",
            "\n",
            "\n",
            "The P-Value of the ChiSq Test is:\n",
            " 1.2168985272205909e-06\n",
            "The P-Value of the Correaltion Test is:\n",
            " -0.03476026217335815\n"
          ],
          "name": "stdout"
        }
      ]
    },
    {
      "cell_type": "code",
      "metadata": {
        "colab": {
          "base_uri": "https://localhost:8080/"
        },
        "id": "uAJ_JQr_30H6",
        "outputId": "9a7925c0-5e27-426f-9e63-06b8aadc386b"
      },
      "source": [
        "\n",
        "CrosstabResult=pd.crosstab(index=df['Parch'],columns=df['Survived'])\n",
        "print(CrosstabResult)\n",
        "from scipy.stats import chi2_contingency\n",
        "\n",
        "ChiSqResult = chi2_contingency(CrosstabResult)\n",
        "print(\"\\n\")\n",
        "print('The P-Value of the ChiSq Test is:\\n', ChiSqResult[1])\n",
        "\n",
        "column_1=df[\"Parch\"]\n",
        "#choose output as the other column\n",
        "column_2=df[\"Survived\"]\n",
        "correlation = column_2. corr(column_1) #calculate correlation between `column_1` and `column_2`\n",
        "print(\"The P-Value of the Correaltion Test is:\\n\",correlation)"
      ],
      "execution_count": null,
      "outputs": [
        {
          "output_type": "stream",
          "text": [
            "Survived  0.0  1.0\n",
            "Parch             \n",
            "0.0       444  231\n",
            "1.0        53   64\n",
            "2.0        40   40\n",
            "3.0         2    3\n",
            "4.0         4    0\n",
            "5.0         4    1\n",
            "6.0         1    0\n",
            "\n",
            "\n",
            "The P-Value of the ChiSq Test is:\n",
            " 0.00011516516080127263\n",
            "The P-Value of the Correaltion Test is:\n",
            " 0.08177609101276331\n"
          ],
          "name": "stdout"
        }
      ]
    },
    {
      "cell_type": "code",
      "metadata": {
        "colab": {
          "base_uri": "https://localhost:8080/"
        },
        "id": "gHKYeonN34bw",
        "outputId": "65bdbea7-886d-40fd-9ffd-2f05e2ea954f"
      },
      "source": [
        "\n",
        "CrosstabResult=pd.crosstab(index=df['Ticket'],columns=df['Survived'])\n",
        "print(CrosstabResult)\n",
        "from scipy.stats import chi2_contingency\n",
        "\n",
        "ChiSqResult = chi2_contingency(CrosstabResult)\n",
        "print(\"\\n\")\n",
        "print('The P-Value of the ChiSq Test is:\\n', ChiSqResult[1])\n"
      ],
      "execution_count": null,
      "outputs": [
        {
          "output_type": "stream",
          "text": [
            "Survived     0.0  1.0\n",
            "Ticket               \n",
            "110152         0    3\n",
            "110413         1    2\n",
            "110465         2    0\n",
            "110564         0    1\n",
            "110813         0    1\n",
            "...          ...  ...\n",
            "W./C. 6608     4    0\n",
            "W./C. 6609     1    0\n",
            "W.E.P. 5734    1    0\n",
            "W/C 14208      1    0\n",
            "WE/P 5735      1    1\n",
            "\n",
            "[680 rows x 2 columns]\n",
            "\n",
            "\n",
            "The P-Value of the ChiSq Test is:\n",
            " 0.010787239234576276\n"
          ],
          "name": "stdout"
        }
      ]
    },
    {
      "cell_type": "code",
      "metadata": {
        "colab": {
          "base_uri": "https://localhost:8080/"
        },
        "id": "X-5bIQtO38WZ",
        "outputId": "1c431561-b266-49c9-8ca2-3390b5989a40"
      },
      "source": [
        "\n",
        "CrosstabResult=pd.crosstab(index=df['Fare'],columns=df['Survived'])\n",
        "print(CrosstabResult)\n",
        "from scipy.stats import chi2_contingency\n",
        "\n",
        "ChiSqResult = chi2_contingency(CrosstabResult)\n",
        "print(\"\\n\")\n",
        "print('The P-Value of the ChiSq Test is:\\n', ChiSqResult[1])\n",
        "\n",
        "column_1=df[\"Fare\"]\n",
        "#choose output as the other column\n",
        "column_2=df[\"Survived\"]\n",
        "correlation = column_2. corr(column_1) #calculate correlation between `column_1` and `column_2`\n",
        "print(\"The P-Value of the Correaltion Test is:\\n\",correlation)"
      ],
      "execution_count": null,
      "outputs": [
        {
          "output_type": "stream",
          "text": [
            "Survived  0.0  1.0\n",
            "Fare              \n",
            "0.0000     14    1\n",
            "4.0125      1    0\n",
            "5.0000      1    0\n",
            "6.2375      1    0\n",
            "6.4375      1    0\n",
            "...       ...  ...\n",
            "227.5250    1    3\n",
            "247.5208    1    1\n",
            "262.3750    0    2\n",
            "263.0000    2    2\n",
            "512.3292    0    3\n",
            "\n",
            "[248 rows x 2 columns]\n",
            "\n",
            "\n",
            "The P-Value of the ChiSq Test is:\n",
            " 8.966050015695972e-12\n",
            "The P-Value of the Correaltion Test is:\n",
            " 0.2590131520302958\n"
          ],
          "name": "stdout"
        }
      ]
    },
    {
      "cell_type": "code",
      "metadata": {
        "colab": {
          "base_uri": "https://localhost:8080/"
        },
        "id": "UEVIgBYy3-O1",
        "outputId": "bd761cc4-6cb8-469a-91f2-34f706085647"
      },
      "source": [
        "\n",
        "CrosstabResult=pd.crosstab(index=df['Cabin'],columns=df['Survived'])\n",
        "print(CrosstabResult)\n",
        "from scipy.stats import chi2_contingency\n",
        "\n",
        "ChiSqResult = chi2_contingency(CrosstabResult)\n",
        "print(\"\\n\")\n",
        "print('The P-Value of the ChiSq Test is:\\n', ChiSqResult[1])\n"
      ],
      "execution_count": null,
      "outputs": [
        {
          "output_type": "stream",
          "text": [
            "Survived  0.0  1.0\n",
            "Cabin             \n",
            "A10         1    0\n",
            "A14         1    0\n",
            "A16         0    1\n",
            "A19         1    0\n",
            "A20         0    1\n",
            "...       ...  ...\n",
            "F33         0    3\n",
            "F38         1    0\n",
            "F4          0    2\n",
            "G6          2    2\n",
            "T           1    0\n",
            "\n",
            "[147 rows x 2 columns]\n",
            "\n",
            "\n",
            "The P-Value of the ChiSq Test is:\n",
            " 0.18357354976388165\n"
          ],
          "name": "stdout"
        }
      ]
    },
    {
      "cell_type": "markdown",
      "metadata": {
        "id": "isrOFu0x6Pqj"
      },
      "source": [
        "QUESTION 2"
      ]
    },
    {
      "cell_type": "code",
      "metadata": {
        "colab": {
          "base_uri": "https://localhost:8080/",
          "height": 536
        },
        "id": "Wae5YwRf4Aen",
        "outputId": "67b45972-e5c5-44bf-a30d-1ebb55ada210"
      },
      "source": [
        "import missingno as msno\n",
        "msno.matrix(df)"
      ],
      "execution_count": null,
      "outputs": [
        {
          "output_type": "execute_result",
          "data": {
            "text/plain": [
              "<matplotlib.axes._subplots.AxesSubplot at 0x7f8b5fb3f2d0>"
            ]
          },
          "metadata": {
            "tags": []
          },
          "execution_count": 44
        },
        {
          "output_type": "display_data",
          "data": {
            "image/png": "[encoded data removed]",
            "text/plain": [
              "<Figure size 1800x720 with 2 Axes>"
            ]
          },
          "metadata": {
            "tags": [],
            "needs_background": "light"
          }
        }
      ]
    },
    {
      "cell_type": "code",
      "metadata": {
        "colab": {
          "base_uri": "https://localhost:8080/",
          "height": 195
        },
        "id": "XZOSCq687XW2",
        "outputId": "23035d41-45cc-4eba-c2f0-a83e71722472"
      },
      "source": [
        "df.drop(axis=1,columns='Unnamed: 17',inplace=True)\n",
        "df.head()"
      ],
      "execution_count": null,
      "outputs": [
        {
          "output_type": "execute_result",
          "data": {
            "text/html": [
              "<div>\n",
              "<style scoped>\n",
              "    .dataframe tbody tr th:only-of-type {\n",
              "        vertical-align: middle;\n",
              "    }\n",
              "\n",
              "    .dataframe tbody tr th {\n",
              "        vertical-align: top;\n",
              "    }\n",
              "\n",
              "    .dataframe thead th {\n",
              "        text-align: right;\n",
              "    }\n",
              "</style>\n",
              "<table border=\"1\" class=\"dataframe\">\n",
              "  <thead>\n",
              "    <tr style=\"text-align: right;\">\n",
              "      <th></th>\n",
              "      <th>PassengerId</th>\n",
              "      <th>Survived</th>\n",
              "      <th>Pclass</th>\n",
              "      <th>Name</th>\n",
              "      <th>Sex</th>\n",
              "      <th>Age</th>\n",
              "      <th>SibSp</th>\n",
              "      <th>Parch</th>\n",
              "      <th>Ticket</th>\n",
              "      <th>Fare</th>\n",
              "      <th>Embarked</th>\n",
              "    </tr>\n",
              "  </thead>\n",
              "  <tbody>\n",
              "    <tr>\n",
              "      <th>0</th>\n",
              "      <td>1</td>\n",
              "      <td>0.0</td>\n",
              "      <td>3.0</td>\n",
              "      <td>Braund, Mr. Owen Harris</td>\n",
              "      <td>male</td>\n",
              "      <td>22.0</td>\n",
              "      <td>1.0</td>\n",
              "      <td>0.0</td>\n",
              "      <td>A/5 21171</td>\n",
              "      <td>7.2500</td>\n",
              "      <td>S</td>\n",
              "    </tr>\n",
              "    <tr>\n",
              "      <th>1</th>\n",
              "      <td>2</td>\n",
              "      <td>1.0</td>\n",
              "      <td>1.0</td>\n",
              "      <td>Cumings, Mrs. John Bradley (Florence Briggs Th...</td>\n",
              "      <td>female</td>\n",
              "      <td>38.0</td>\n",
              "      <td>1.0</td>\n",
              "      <td>0.0</td>\n",
              "      <td>PC 17599</td>\n",
              "      <td>71.2833</td>\n",
              "      <td>C</td>\n",
              "    </tr>\n",
              "    <tr>\n",
              "      <th>2</th>\n",
              "      <td>3</td>\n",
              "      <td>1.0</td>\n",
              "      <td>3.0</td>\n",
              "      <td>Heikkinen, Miss. Laina</td>\n",
              "      <td>female</td>\n",
              "      <td>26.0</td>\n",
              "      <td>0.0</td>\n",
              "      <td>0.0</td>\n",
              "      <td>STON/O2. 3101282</td>\n",
              "      <td>7.9250</td>\n",
              "      <td>S</td>\n",
              "    </tr>\n",
              "    <tr>\n",
              "      <th>3</th>\n",
              "      <td>4</td>\n",
              "      <td>1.0</td>\n",
              "      <td>1.0</td>\n",
              "      <td>Futrelle, Mrs. Jacques Heath (Lily May Peel)</td>\n",
              "      <td>female</td>\n",
              "      <td>35.0</td>\n",
              "      <td>1.0</td>\n",
              "      <td>0.0</td>\n",
              "      <td>113803</td>\n",
              "      <td>53.1000</td>\n",
              "      <td>S</td>\n",
              "    </tr>\n",
              "    <tr>\n",
              "      <th>4</th>\n",
              "      <td>5</td>\n",
              "      <td>0.0</td>\n",
              "      <td>3.0</td>\n",
              "      <td>Allen, Mr. William Henry</td>\n",
              "      <td>male</td>\n",
              "      <td>35.0</td>\n",
              "      <td>0.0</td>\n",
              "      <td>0.0</td>\n",
              "      <td>373450</td>\n",
              "      <td>8.0500</td>\n",
              "      <td>S</td>\n",
              "    </tr>\n",
              "  </tbody>\n",
              "</table>\n",
              "</div>"
            ],
            "text/plain": [
              "   PassengerId  Survived  Pclass  ...            Ticket     Fare  Embarked\n",
              "0            1       0.0     3.0  ...         A/5 21171   7.2500         S\n",
              "1            2       1.0     1.0  ...          PC 17599  71.2833         C\n",
              "2            3       1.0     3.0  ...  STON/O2. 3101282   7.9250         S\n",
              "3            4       1.0     1.0  ...            113803  53.1000         S\n",
              "4            5       0.0     3.0  ...            373450   8.0500         S\n",
              "\n",
              "[5 rows x 11 columns]"
            ]
          },
          "metadata": {
            "tags": []
          },
          "execution_count": 63
        }
      ]
    },
    {
      "cell_type": "code",
      "metadata": {
        "colab": {
          "base_uri": "https://localhost:8080/",
          "height": 530
        },
        "id": "H1OKE9V97_Av",
        "outputId": "4bb951f9-8cce-488d-99d1-65ef01f72db8"
      },
      "source": [
        "msno.matrix(df)"
      ],
      "execution_count": null,
      "outputs": [
        {
          "output_type": "execute_result",
          "data": {
            "text/plain": [
              "<matplotlib.axes._subplots.AxesSubplot at 0x7f8b525ddf50>"
            ]
          },
          "metadata": {
            "tags": []
          },
          "execution_count": 64
        },
        {
          "output_type": "display_data",
          "data": {
            "image/png": "[encoded data removed]",
            "text/plain": [
              "<Figure size 1800x720 with 2 Axes>"
            ]
          },
          "metadata": {
            "tags": [],
            "needs_background": "light"
          }
        }
      ]
    },
    {
      "cell_type": "code",
      "metadata": {
        "colab": {
          "base_uri": "https://localhost:8080/",
          "height": 1000
        },
        "id": "iu_4SVl084Bt",
        "outputId": "3aa87cab-4c79-436c-8822-b856553d7acf"
      },
      "source": [
        "import numpy as np\n",
        "df[\"Age\"] = df[\"Age\"].replace(np.NaN, df[\"Age\"].mean()) #I took avg age as that represents the sample population well.\n",
        "msno.matrix(df)\n",
        "df['Sex'].fillna(df['Sex'].mode()[0], inplace=True) # its either M or F theres no point of mean or median. Therefore I took Mode\n",
        "msno.matrix(df)"
      ],
      "execution_count": null,
      "outputs": [
        {
          "output_type": "execute_result",
          "data": {
            "text/plain": [
              "<matplotlib.axes._subplots.AxesSubplot at 0x7f8b52473f10>"
            ]
          },
          "metadata": {
            "tags": []
          },
          "execution_count": 66
        },
        {
          "output_type": "display_data",
          "data": {
            "image/png": "[encoded data removed]",
            "text/plain": [
              "<Figure size 1800x720 with 2 Axes>"
            ]
          },
          "metadata": {
            "tags": [],
            "needs_background": "light"
          }
        },
        {
          "output_type": "display_data",
          "data": {
            "image/png": "[encoded data removed]",
            "text/plain": [
              "<Figure size 1800x720 with 2 Axes>"
            ]
          },
          "metadata": {
            "tags": [],
            "needs_background": "light"
          }
        }
      ]
    },
    {
      "cell_type": "markdown",
      "metadata": {
        "id": "CeBDWdO3AmhQ"
      },
      "source": [
        "QUESTION 3"
      ]
    },
    {
      "cell_type": "code",
      "metadata": {
        "colab": {
          "base_uri": "https://localhost:8080/"
        },
        "id": "-x8MJIOT_BEx",
        "outputId": "d357557d-e1a9-4e89-dea2-d7818c03be6b"
      },
      "source": [
        "pip install category_encoders\n"
      ],
      "execution_count": null,
      "outputs": [
        {
          "output_type": "stream",
          "text": [
            "Collecting category_encoders\n",
            "\u001b[?25l  Downloading https://files.pythonhosted.org/packages/44/57/fcef41c248701ee62e8325026b90c432adea35555cbc870aff9cfba23727/category_encoders-2.2.2-py2.py3-none-any.whl (80kB)\n",
            "\r\u001b[K     |████                            | 10kB 14.3MB/s eta 0:00:01\r\u001b[K     |████████▏                       | 20kB 17.0MB/s eta 0:00:01\r\u001b[K     |████████████▏                   | 30kB 11.1MB/s eta 0:00:01\r\u001b[K     |████████████████▎               | 40kB 9.5MB/s eta 0:00:01\r\u001b[K     |████████████████████▎           | 51kB 5.3MB/s eta 0:00:01\r\u001b[K     |████████████████████████▍       | 61kB 5.8MB/s eta 0:00:01\r\u001b[K     |████████████████████████████▍   | 71kB 6.0MB/s eta 0:00:01\r\u001b[K     |████████████████████████████████| 81kB 3.8MB/s \n",
            "\u001b[?25hRequirement already satisfied: statsmodels>=0.9.0 in /usr/local/lib/python3.7/dist-packages (from category_encoders) (0.10.2)\n",
            "Requirement already satisfied: scipy>=1.0.0 in /usr/local/lib/python3.7/dist-packages (from category_encoders) (1.4.1)\n",
            "Requirement already satisfied: scikit-learn>=0.20.0 in /usr/local/lib/python3.7/dist-packages (from category_encoders) (0.22.2.post1)\n",
            "Requirement already satisfied: patsy>=0.5.1 in /usr/local/lib/python3.7/dist-packages (from category_encoders) (0.5.1)\n",
            "Requirement already satisfied: numpy>=1.14.0 in /usr/local/lib/python3.7/dist-packages (from category_encoders) (1.19.5)\n",
            "Requirement already satisfied: pandas>=0.21.1 in /usr/local/lib/python3.7/dist-packages (from category_encoders) (1.1.5)\n",
            "Requirement already satisfied: joblib>=0.11 in /usr/local/lib/python3.7/dist-packages (from scikit-learn>=0.20.0->category_encoders) (1.0.1)\n",
            "Requirement already satisfied: six in /usr/local/lib/python3.7/dist-packages (from patsy>=0.5.1->category_encoders) (1.15.0)\n",
            "Requirement already satisfied: python-dateutil>=2.7.3 in /usr/local/lib/python3.7/dist-packages (from pandas>=0.21.1->category_encoders) (2.8.1)\n",
            "Requirement already satisfied: pytz>=2017.2 in /usr/local/lib/python3.7/dist-packages (from pandas>=0.21.1->category_encoders) (2018.9)\n",
            "Installing collected packages: category-encoders\n",
            "Successfully installed category-encoders-2.2.2\n"
          ],
          "name": "stdout"
        }
      ]
    },
    {
      "cell_type": "code",
      "metadata": {
        "colab": {
          "base_uri": "https://localhost:8080/"
        },
        "id": "tShIDqIr_QlU",
        "outputId": "2e0bf5ed-fea6-4fa4-f5c7-7ee6eff618e4"
      },
      "source": [
        "import category_encoders as ce\n",
        "\n"
      ],
      "execution_count": null,
      "outputs": [
        {
          "output_type": "stream",
          "text": [
            "/usr/local/lib/python3.7/dist-packages/statsmodels/tools/_testing.py:19: FutureWarning: pandas.util.testing is deprecated. Use the functions in the public API at pandas.testing instead.\n",
            "  import pandas.util.testing as tm\n"
          ],
          "name": "stderr"
        }
      ]
    },
    {
      "cell_type": "code",
      "metadata": {
        "colab": {
          "base_uri": "https://localhost:8080/"
        },
        "id": "Ba7w9LVq_T1S",
        "outputId": "c28fef2a-6e93-4f8a-bf89-b4827e3be748"
      },
      "source": [
        "df.info()\n"
      ],
      "execution_count": null,
      "outputs": [
        {
          "output_type": "stream",
          "text": [
            "<class 'pandas.core.frame.DataFrame'>\n",
            "RangeIndex: 891 entries, 0 to 890\n",
            "Data columns (total 11 columns):\n",
            " #   Column       Non-Null Count  Dtype  \n",
            "---  ------       --------------  -----  \n",
            " 0   PassengerId  891 non-null    int64  \n",
            " 1   Survived     889 non-null    float64\n",
            " 2   Pclass       890 non-null    float64\n",
            " 3   Name         891 non-null    object \n",
            " 4   Sex          891 non-null    object \n",
            " 5   Age          891 non-null    float64\n",
            " 6   SibSp        890 non-null    float64\n",
            " 7   Parch        889 non-null    float64\n",
            " 8   Ticket       891 non-null    object \n",
            " 9   Fare         891 non-null    float64\n",
            " 10  Embarked     889 non-null    object \n",
            "dtypes: float64(6), int64(1), object(4)\n",
            "memory usage: 76.7+ KB\n"
          ],
          "name": "stdout"
        }
      ]
    },
    {
      "cell_type": "code",
      "metadata": {
        "colab": {
          "base_uri": "https://localhost:8080/"
        },
        "id": "U828knKzAvhM",
        "outputId": "a271f7f6-2c7a-4174-be7c-c5996e729d9a"
      },
      "source": [
        "encoder=ce.OneHotEncoder(cols='Survived',handle_unknown='return_nan',return_df=True,use_cat_names=True)\n",
        "\n",
        "df5_encoded = encoder.fit_transform(df)\n",
        "print(df5_encoded)"
      ],
      "execution_count": null,
      "outputs": [
        {
          "output_type": "stream",
          "text": [
            "     PassengerId  Survived_0.0  ...     Fare  Embarked\n",
            "0              1           1.0  ...   7.2500         S\n",
            "1              2           0.0  ...  71.2833         C\n",
            "2              3           0.0  ...   7.9250         S\n",
            "3              4           0.0  ...  53.1000         S\n",
            "4              5           1.0  ...   8.0500         S\n",
            "..           ...           ...  ...      ...       ...\n",
            "886          887           1.0  ...  13.0000         S\n",
            "887          888           0.0  ...  30.0000         S\n",
            "888          889           1.0  ...  23.4500         S\n",
            "889          890           0.0  ...  30.0000         C\n",
            "890          891           1.0  ...   7.7500         Q\n",
            "\n",
            "[891 rows x 13 columns]\n"
          ],
          "name": "stdout"
        },
        {
          "output_type": "stream",
          "text": [
            "/usr/local/lib/python3.7/dist-packages/category_encoders/utils.py:21: FutureWarning: is_categorical is deprecated and will be removed in a future version.  Use is_categorical_dtype instead\n",
            "  elif pd.api.types.is_categorical(cols):\n"
          ],
          "name": "stderr"
        }
      ]
    },
    {
      "cell_type": "code",
      "metadata": {
        "colab": {
          "base_uri": "https://localhost:8080/"
        },
        "id": "gVZVbRTVB_CO",
        "outputId": "c8ac5f6f-3199-4979-d163-33ed6a55fe70"
      },
      "source": [
        "df5_en=pd.get_dummies(data=df,drop_first=True)\n",
        "print(df5_en)"
      ],
      "execution_count": null,
      "outputs": [
        {
          "output_type": "stream",
          "text": [
            "     PassengerId  Survived  Pclass  ...  Ticket_WE/P 5735  Embarked_Q  Embarked_S\n",
            "0              1       0.0     3.0  ...                 0           0           1\n",
            "1              2       1.0     1.0  ...                 0           0           0\n",
            "2              3       1.0     3.0  ...                 0           0           1\n",
            "3              4       1.0     1.0  ...                 0           0           1\n",
            "4              5       0.0     3.0  ...                 0           0           1\n",
            "..           ...       ...     ...  ...               ...         ...         ...\n",
            "886          887       0.0     2.0  ...                 0           0           1\n",
            "887          888       1.0     1.0  ...                 0           0           1\n",
            "888          889       0.0     3.0  ...                 0           0           1\n",
            "889          890       1.0     1.0  ...                 0           0           0\n",
            "890          891       0.0     3.0  ...                 0           1           0\n",
            "\n",
            "[891 rows x 1580 columns]\n"
          ],
          "name": "stdout"
        }
      ]
    },
    {
      "cell_type": "code",
      "metadata": {
        "colab": {
          "base_uri": "https://localhost:8080/"
        },
        "id": "imFE3lTXCPSN",
        "outputId": "0695eadf-8d21-4c78-b141-a606da0cad71"
      },
      "source": [
        "encoder= ce.BaseNEncoder(cols=['Survived'],return_df=True,base=5)\n",
        "df5_N=encoder.fit_transform(df)\n",
        "print(df5_N)"
      ],
      "execution_count": null,
      "outputs": [
        {
          "output_type": "stream",
          "text": [
            "     PassengerId  Survived_0  Survived_1  ...            Ticket     Fare Embarked\n",
            "0              1           0           1  ...         A/5 21171   7.2500        S\n",
            "1              2           0           2  ...          PC 17599  71.2833        C\n",
            "2              3           0           2  ...  STON/O2. 3101282   7.9250        S\n",
            "3              4           0           2  ...            113803  53.1000        S\n",
            "4              5           0           1  ...            373450   8.0500        S\n",
            "..           ...         ...         ...  ...               ...      ...      ...\n",
            "886          887           0           1  ...            211536  13.0000        S\n",
            "887          888           0           2  ...            112053  30.0000        S\n",
            "888          889           0           1  ...        W./C. 6607  23.4500        S\n",
            "889          890           0           2  ...            111369  30.0000        C\n",
            "890          891           0           1  ...            370376   7.7500        Q\n",
            "\n",
            "[891 rows x 12 columns]\n"
          ],
          "name": "stdout"
        },
        {
          "output_type": "stream",
          "text": [
            "/usr/local/lib/python3.7/dist-packages/category_encoders/utils.py:21: FutureWarning: is_categorical is deprecated and will be removed in a future version.  Use is_categorical_dtype instead\n",
            "  elif pd.api.types.is_categorical(cols):\n"
          ],
          "name": "stderr"
        }
      ]
    },
    {
      "cell_type": "code",
      "metadata": {
        "colab": {
          "base_uri": "https://localhost:8080/",
          "height": 457
        },
        "id": "j_cfrOyNChUk",
        "outputId": "d4a4b162-9d45-4295-e158-18fd7bc6ead9"
      },
      "source": [
        "encoder=ce.TargetEncoder(cols='Age') \n",
        "encoder.fit_transform(df['Age'],df['Fare'])\n"
      ],
      "execution_count": null,
      "outputs": [
        {
          "output_type": "stream",
          "text": [
            "/usr/local/lib/python3.7/dist-packages/category_encoders/utils.py:21: FutureWarning: is_categorical is deprecated and will be removed in a future version.  Use is_categorical_dtype instead\n",
            "  elif pd.api.types.is_categorical(cols):\n"
          ],
          "name": "stderr"
        },
        {
          "output_type": "execute_result",
          "data": {
            "text/html": [
              "<div>\n",
              "<style scoped>\n",
              "    .dataframe tbody tr th:only-of-type {\n",
              "        vertical-align: middle;\n",
              "    }\n",
              "\n",
              "    .dataframe tbody tr th {\n",
              "        vertical-align: top;\n",
              "    }\n",
              "\n",
              "    .dataframe thead th {\n",
              "        text-align: right;\n",
              "    }\n",
              "</style>\n",
              "<table border=\"1\" class=\"dataframe\">\n",
              "  <thead>\n",
              "    <tr style=\"text-align: right;\">\n",
              "      <th></th>\n",
              "      <th>Age</th>\n",
              "    </tr>\n",
              "  </thead>\n",
              "  <tbody>\n",
              "    <tr>\n",
              "      <th>0</th>\n",
              "      <td>25.504781</td>\n",
              "    </tr>\n",
              "    <tr>\n",
              "      <th>1</th>\n",
              "      <td>62.750122</td>\n",
              "    </tr>\n",
              "    <tr>\n",
              "      <th>2</th>\n",
              "      <td>19.086806</td>\n",
              "    </tr>\n",
              "    <tr>\n",
              "      <th>3</th>\n",
              "      <td>89.312498</td>\n",
              "    </tr>\n",
              "    <tr>\n",
              "      <th>4</th>\n",
              "      <td>89.312498</td>\n",
              "    </tr>\n",
              "    <tr>\n",
              "      <th>...</th>\n",
              "      <td>...</td>\n",
              "    </tr>\n",
              "    <tr>\n",
              "      <th>886</th>\n",
              "      <td>30.361339</td>\n",
              "    </tr>\n",
              "    <tr>\n",
              "      <th>887</th>\n",
              "      <td>27.869496</td>\n",
              "    </tr>\n",
              "    <tr>\n",
              "      <th>888</th>\n",
              "      <td>22.408192</td>\n",
              "    </tr>\n",
              "    <tr>\n",
              "      <th>889</th>\n",
              "      <td>19.086806</td>\n",
              "    </tr>\n",
              "    <tr>\n",
              "      <th>890</th>\n",
              "      <td>24.323378</td>\n",
              "    </tr>\n",
              "  </tbody>\n",
              "</table>\n",
              "<p>891 rows × 1 columns</p>\n",
              "</div>"
            ],
            "text/plain": [
              "           Age\n",
              "0    25.504781\n",
              "1    62.750122\n",
              "2    19.086806\n",
              "3    89.312498\n",
              "4    89.312498\n",
              "..         ...\n",
              "886  30.361339\n",
              "887  27.869496\n",
              "888  22.408192\n",
              "889  19.086806\n",
              "890  24.323378\n",
              "\n",
              "[891 rows x 1 columns]"
            ]
          },
          "metadata": {
            "tags": []
          },
          "execution_count": 92
        }
      ]
    },
    {
      "cell_type": "markdown",
      "metadata": {
        "id": "we_D5gUHENYI"
      },
      "source": [
        "QUESTION 4"
      ]
    },
    {
      "cell_type": "code",
      "metadata": {
        "colab": {
          "base_uri": "https://localhost:8080/"
        },
        "id": "6D-VqRUgC4Kb",
        "outputId": "2f240cb9-66f3-4d2d-f163-757749ecd556"
      },
      "source": [
        "import pandas as pd\n",
        "import numpy as np\n",
        "\n",
        "\n",
        "X = df.iloc[:, :].values\n",
        "\n",
        "from sklearn.preprocessing import MinMaxScaler\n",
        "norm = MinMaxScaler()\n",
        "X[:, 1:3] = norm.fit_transform(X[:, 1:3])\n",
        "print(X)"
      ],
      "execution_count": null,
      "outputs": [
        {
          "output_type": "stream",
          "text": [
            "[[1 0.0 1.0 ... 'A/5 21171' 7.25 'S']\n",
            " [2 1.0 0.0 ... 'PC 17599' 71.2833 'C']\n",
            " [3 1.0 1.0 ... 'STON/O2. 3101282' 7.925 'S']\n",
            " ...\n",
            " [889 0.0 1.0 ... 'W./C. 6607' 23.45 'S']\n",
            " [890 1.0 0.0 ... '111369' 30.0 'C']\n",
            " [891 0.0 1.0 ... '370376' 7.75 'Q']]\n"
          ],
          "name": "stdout"
        }
      ]
    },
    {
      "cell_type": "code",
      "metadata": {
        "colab": {
          "base_uri": "https://localhost:8080/"
        },
        "id": "7VqJmxOuF0Nr",
        "outputId": "cbdadf5f-744d-4f30-e71d-4cf993a09abe"
      },
      "source": [
        "import pandas\n",
        "import numpy as np\n",
        "\n",
        "\n",
        "\n",
        "X = df.iloc[:, :].values\n",
        "\n",
        "from sklearn.preprocessing import StandardScaler\n",
        "norm = StandardScaler()\n",
        "X[:, 1:3] = norm.fit_transform(X[:, 1:3])\n",
        "print(X)"
      ],
      "execution_count": null,
      "outputs": [
        {
          "output_type": "stream",
          "text": [
            "[[1 -0.786961137809604 0.82816048760316 ... 'A/5 21171' 7.25 'S']\n",
            " [2 1.2707107784043308 -1.5649006616397367 ... 'PC 17599' 71.2833 'C']\n",
            " [3 1.2707107784043308 0.82816048760316 ... 'STON/O2. 3101282' 7.925 'S']\n",
            " ...\n",
            " [889 -0.786961137809604 0.82816048760316 ... 'W./C. 6607' 23.45 'S']\n",
            " [890 1.2707107784043308 -1.5649006616397367 ... '111369' 30.0 'C']\n",
            " [891 -0.786961137809604 0.82816048760316 ... '370376' 7.75 'Q']]\n"
          ],
          "name": "stdout"
        }
      ]
    },
    {
      "cell_type": "code",
      "metadata": {
        "id": "yD85x588GYa4"
      },
      "source": [
        ""
      ],
      "execution_count": null,
      "outputs": []
    }
  ]
}